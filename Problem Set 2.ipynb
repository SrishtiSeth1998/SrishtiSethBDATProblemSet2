{
 "cells": [
  {
   "cell_type": "markdown",
   "id": "b3bbc09e",
   "metadata": {},
   "source": [
    "# Problem Set 2"
   ]
  },
  {
   "cell_type": "markdown",
   "id": "1a951b26",
   "metadata": {},
   "source": [
    "## Question 1"
   ]
  },
  {
   "cell_type": "code",
   "execution_count": 50,
   "id": "a2c4380f",
   "metadata": {},
   "outputs": [],
   "source": [
    "a = 0\n",
    "\n",
    "def b():\n",
    "    global a\n",
    "    a = c(a)\n",
    "    \n",
    "def c(a):\n",
    "    return a + 2"
   ]
  },
  {
   "cell_type": "code",
   "execution_count": 51,
   "id": "4edb5551",
   "metadata": {},
   "outputs": [
    {
     "name": "stdout",
     "output_type": "stream",
     "text": [
      "6\n"
     ]
    }
   ],
   "source": [
    "b()  #'calling b once will make the value a = 2'\n",
    "b()  #'calling b twise will make a = 4'\n",
    "b()  # 'calling b thrice will make a = 6'\n",
    "print(a)  # hence the output is 6"
   ]
  },
  {
   "cell_type": "markdown",
   "id": "3b4115c9",
   "metadata": {},
   "source": [
    "## Question 2"
   ]
  },
  {
   "cell_type": "code",
   "execution_count": 3,
   "id": "23c47c5b",
   "metadata": {},
   "outputs": [
    {
     "name": "stdout",
     "output_type": "stream",
     "text": [
      "5345\n",
      "File ord.txt not found.\n"
     ]
    }
   ],
   "source": [
    "def fileLength(filename):\n",
    "    \n",
    "    try:                          # for the condition \n",
    "        infile = open(filename)  \n",
    "        content = infile.read()\n",
    "        infile.close()\n",
    "        return len(content)\n",
    "    \n",
    "    except FileNotFoundError:     \n",
    "        return f\"File {filename} not found.\"\n",
    "        \n",
    "        \n",
    "print(fileLength('word.txt'))\n",
    "print(fileLength('ord.txt'))\n"
   ]
  },
  {
   "cell_type": "markdown",
   "id": "fecf526d",
   "metadata": {},
   "source": [
    "## Question 3"
   ]
  },
  {
   "cell_type": "code",
   "execution_count": 52,
   "id": "0d5d80b3",
   "metadata": {},
   "outputs": [],
   "source": [
    "class Marsupial:\n",
    "    def __init__(self):\n",
    "        self.pouch = []   # empty list \n",
    "\n",
    "    def put_in_pouch(self, item):\n",
    "        self.pouch.append(item)  # appending the list \n",
    "\n",
    "    def pouch_contents(self):\n",
    "        return self.pouch      # class for returning the list\n"
   ]
  },
  {
   "cell_type": "code",
   "execution_count": 53,
   "id": "53b273f9",
   "metadata": {},
   "outputs": [
    {
     "name": "stdout",
     "output_type": "stream",
     "text": [
      "['doll', 'firetruck', 'kitten']\n"
     ]
    }
   ],
   "source": [
    "m = Marsupial()\n",
    "m.put_in_pouch('doll')\n",
    "m.put_in_pouch('firetruck')\n",
    "m.put_in_pouch('kitten')\n",
    "print(m.pouch_contents()) "
   ]
  },
  {
   "cell_type": "code",
   "execution_count": 6,
   "id": "de127249",
   "metadata": {},
   "outputs": [],
   "source": [
    "class Kangaroo(Marsupial):\n",
    "    def __init__(self, x, y):\n",
    "        super().__init__()\n",
    "        self.x = x\n",
    "        self.y = y\n",
    "\n",
    "    def jump(self, dx, dy):\n",
    "        self.x += dx\n",
    "        self.y += dy\n",
    "\n",
    "    def __str__(self):\n",
    "        return f\"I am a Kangaroo located at coordinates ({self.x},{self.y})\"\n"
   ]
  },
  {
   "cell_type": "code",
   "execution_count": 7,
   "id": "32ebcad2",
   "metadata": {},
   "outputs": [
    {
     "name": "stdout",
     "output_type": "stream",
     "text": [
      "I am a Kangaroo located at coordinates (0,0)\n",
      "['doll', 'firetruck', 'kitten']\n",
      "I am a Kangaroo located at coordinates (3,0)\n"
     ]
    }
   ],
   "source": [
    "k = Kangaroo(0, 0)\n",
    "print(k)  \n",
    "k.put_in_pouch('doll')\n",
    "k.put_in_pouch('firetruck')\n",
    "k.put_in_pouch('kitten')\n",
    "print(k.pouch_contents())  \n",
    "k.jump(1, 0)\n",
    "k.jump(1, 0)\n",
    "k.jump(1, 0)\n",
    "print(k)  \n"
   ]
  },
  {
   "cell_type": "markdown",
   "id": "778e1e42",
   "metadata": {},
   "source": [
    "## Question 4"
   ]
  },
  {
   "cell_type": "code",
   "execution_count": 8,
   "id": "8e7e8022",
   "metadata": {},
   "outputs": [],
   "source": [
    "def collatz(x):    \n",
    "    print(x)\n",
    "    if x == 1: \n",
    "        return\n",
    "    elif x % 2 == 0:    # if x is even\n",
    "        collatz(x // 2)\n",
    "    else:               # if x is odd\n",
    "        collatz(3 * x + 1)\n"
   ]
  },
  {
   "cell_type": "code",
   "execution_count": 9,
   "id": "d650aab2",
   "metadata": {},
   "outputs": [
    {
     "name": "stdout",
     "output_type": "stream",
     "text": [
      "1\n"
     ]
    }
   ],
   "source": [
    "collatz(1)"
   ]
  },
  {
   "cell_type": "code",
   "execution_count": 10,
   "id": "5d77c575",
   "metadata": {},
   "outputs": [
    {
     "name": "stdout",
     "output_type": "stream",
     "text": [
      "10\n",
      "5\n",
      "16\n",
      "8\n",
      "4\n",
      "2\n",
      "1\n"
     ]
    }
   ],
   "source": [
    "collatz(10)"
   ]
  },
  {
   "cell_type": "markdown",
   "id": "8384cd1b",
   "metadata": {},
   "source": [
    "## Question 5"
   ]
  },
  {
   "cell_type": "code",
   "execution_count": 11,
   "id": "700d8ec5",
   "metadata": {},
   "outputs": [],
   "source": [
    "def binary(n):\n",
    "    if n < 2:\n",
    "        print(n, end=\"\")\n",
    "    else:\n",
    "        binary(n // 2)\n",
    "        print(n % 2, end=\"\")\n"
   ]
  },
  {
   "cell_type": "code",
   "execution_count": 12,
   "id": "76f1f14f",
   "metadata": {},
   "outputs": [
    {
     "name": "stdout",
     "output_type": "stream",
     "text": [
      "0"
     ]
    }
   ],
   "source": [
    "binary(0)"
   ]
  },
  {
   "cell_type": "code",
   "execution_count": 13,
   "id": "102fadb7",
   "metadata": {},
   "outputs": [
    {
     "name": "stdout",
     "output_type": "stream",
     "text": [
      "1"
     ]
    }
   ],
   "source": [
    "binary(1)"
   ]
  },
  {
   "cell_type": "code",
   "execution_count": 14,
   "id": "b7a3a7ab",
   "metadata": {},
   "outputs": [
    {
     "name": "stdout",
     "output_type": "stream",
     "text": [
      "11"
     ]
    }
   ],
   "source": [
    "binary(3)"
   ]
  },
  {
   "cell_type": "code",
   "execution_count": 15,
   "id": "0a8aadc9",
   "metadata": {},
   "outputs": [
    {
     "name": "stdout",
     "output_type": "stream",
     "text": [
      "1001"
     ]
    }
   ],
   "source": [
    "binary(9)"
   ]
  },
  {
   "cell_type": "markdown",
   "id": "57a0f806",
   "metadata": {},
   "source": [
    "## Question 6"
   ]
  },
  {
   "cell_type": "code",
   "execution_count": 54,
   "id": "69e66b52",
   "metadata": {},
   "outputs": [],
   "source": [
    "from html.parser import HTMLParser\n",
    "\n",
    "\n",
    "class HeadingParser(HTMLParser):\n",
    "    def __init__(self):\n",
    "        super().__init__()\n",
    "        self.headings = []\n",
    "        self.current_heading = ''\n",
    "        self.indentation = 0\n",
    "\n",
    "    def handle_starttag(self, tag, attrs):\n",
    "        if tag.startswith('h'):\n",
    "            try:\n",
    "                self.indentation = int(tag[1:]) - 1\n",
    "            except ValueError:\n",
    "                pass\n",
    "\n",
    "    def handle_data(self, data):\n",
    "        if self.indentation >= 0:\n",
    "            self.current_heading += data.strip()\n",
    "\n",
    "    def handle_endtag(self, tag):\n",
    "        if tag.startswith('h'):\n",
    "            self.headings.append((self.current_heading, self.indentation))\n",
    "            self.current_heading = ''\n",
    "\n",
    "    def print_headings(self):\n",
    "        for heading, indentation in self.headings:\n",
    "            print(' ' * indentation + heading)\n",
    "\n"
   ]
  },
  {
   "cell_type": "code",
   "execution_count": 55,
   "id": "d2f05314",
   "metadata": {},
   "outputs": [
    {
     "name": "stdout",
     "output_type": "stream",
     "text": [
      "Change_me\n",
      "W3C Mission\n",
      " Principles\n",
      " \n"
     ]
    }
   ],
   "source": [
    "infile = open('w3c.html')\n",
    "content = infile.read()\n",
    "infile.close()\n",
    "\n",
    "hp = HeadingParser()\n",
    "hp.feed(content)\n",
    "hp.print_headings()"
   ]
  },
  {
   "cell_type": "markdown",
   "id": "670ce32a",
   "metadata": {},
   "source": [
    "## Question 7"
   ]
  },
  {
   "cell_type": "code",
   "execution_count": 19,
   "id": "623ea293",
   "metadata": {},
   "outputs": [],
   "source": [
    "import requests\n",
    "from bs4 import BeautifulSoup\n",
    "from urllib.parse import urljoin\n",
    "\n",
    "\n",
    "def normalize_url(url):\n",
    "    # Remove trailing slashes and query parameters\n",
    "    url = url.rstrip('/').split('?')[0]\n",
    "    return url\n",
    "\n",
    "\n",
    "def webdir(url, depth, indent, visited=set()):\n",
    "    if depth < 0:\n",
    "        return\n",
    "\n",
    "    normalized_url = normalize_url(url)\n",
    "    if normalized_url in visited:\n",
    "        return\n",
    "\n",
    "    visited.add(normalized_url)\n",
    "\n",
    "    indent_spaces = ' ' * indent\n",
    "    print(indent_spaces + url)\n",
    "\n",
    "    try:\n",
    "        response = requests.get(url)\n",
    "        content = response.text\n",
    "        soup = BeautifulSoup(content, 'html.parser')\n",
    "\n",
    "        if depth == 0:\n",
    "            return\n",
    "\n",
    "        links = soup.find_all('a')\n",
    "        for link in links:\n",
    "            href = link.get('href')\n",
    "            absolute_url = urljoin(url, href)\n",
    "            webdir(absolute_url, depth - 1, indent + 1, visited)\n",
    "    except requests.exceptions.RequestException:\n",
    "        return\n"
   ]
  },
  {
   "cell_type": "code",
   "execution_count": 20,
   "id": "2b86959d",
   "metadata": {},
   "outputs": [
    {
     "name": "stdout",
     "output_type": "stream",
     "text": [
      "http://reed.cs.depaul.edu/lperkovic/csc242/test1.html\n"
     ]
    }
   ],
   "source": [
    "webdir('http://reed.cs.depaul.edu/lperkovic/csc242/test1.html', 2, 0)"
   ]
  },
  {
   "cell_type": "markdown",
   "id": "fb615871",
   "metadata": {},
   "source": [
    "## Question 8"
   ]
  },
  {
   "cell_type": "code",
   "execution_count": 38,
   "id": "f4bcf7cd",
   "metadata": {},
   "outputs": [],
   "source": [
    "import sqlite3\n",
    "\n",
    "# Connect to the database (creates a new database if it doesn't exist)\n",
    "conn = sqlite3.connect('weathers_data.db')\n",
    "\n",
    "# Create a cursor object to execute SQL commands\n",
    "cursor = conn.cursor()\n",
    "\n",
    "# Create the table to store weather data\n",
    "cursor.execute('''CREATE TABLE IF NOT EXISTS weathers (\n",
    "                    city TEXT,\n",
    "                    country TEXT,\n",
    "                    season TEXT,\n",
    "                    temperature REAL,\n",
    "                    rainfall REAL\n",
    "                )''')\n",
    "\n",
    "# Insert the data into the table\n",
    "data = [\n",
    "    ('Mumbai', 'India', 'Winter', 24.8, 5.9),\n",
    "    ('Mumbai', 'India', 'Spring', 28.4, 16.2),\n",
    "    ('Mumbai', 'India', 'Summer', 27.9, 1549.4),\n",
    "    ('Mumbai', 'India', 'Fall', 27.6, 346.0),\n",
    "    ('London', 'United Kingdom', 'Winter', 4.2, 207.7),\n",
    "    ('London', 'United Kingdom', 'Spring', 8.3, 169.6),\n",
    "    ('London', 'United Kingdom', 'Summer', 15.7, 157.0),\n",
    "    ('London', 'United Kingdom', 'Fall', 10.4, 218.5),\n",
    "    ('Cairo', 'Egypt', 'Winter', 13.6, 16.5),\n",
    "    ('Cairo', 'Egypt', 'Spring', 20.7, 6.5),\n",
    "    ('Cairo', 'Egypt', 'Summer', 27.7, 0.1),\n",
    "    ('Cairo', 'Egypt', 'Fall', 22.2, 4.5)\n",
    "]\n",
    "\n",
    "cursor.executemany('INSERT INTO weathers VALUES (?, ?, ?, ?, ?)', data)\n",
    "\n",
    "# Commit the changes and close the connection\n",
    "conn.commit()\n",
    "conn.close()"
   ]
  },
  {
   "cell_type": "markdown",
   "id": "8abeca0f",
   "metadata": {},
   "source": [
    "a) All the temperature data.\n"
   ]
  },
  {
   "cell_type": "code",
   "execution_count": 39,
   "id": "31944c22",
   "metadata": {},
   "outputs": [
    {
     "name": "stdout",
     "output_type": "stream",
     "text": [
      "[(24.8,), (28.4,), (27.9,), (27.6,), (4.2,), (8.3,), (15.7,), (10.4,), (13.6,), (20.7,), (27.7,), (22.2,)]\n"
     ]
    }
   ],
   "source": [
    "# Connect to the database\n",
    "conn = sqlite3.connect('weathers_data.db')\n",
    "cursor = conn.cursor()\n",
    "\n",
    "cursor.execute('SELECT temperature FROM weathers')\n",
    "temperature_data = cursor.fetchall()\n",
    "\n",
    "conn.close()\n",
    "\n",
    "print(temperature_data)"
   ]
  },
  {
   "cell_type": "markdown",
   "id": "93e71db2",
   "metadata": {},
   "source": [
    "b) All the cities, but without repetition."
   ]
  },
  {
   "cell_type": "code",
   "execution_count": 40,
   "id": "8f845675",
   "metadata": {},
   "outputs": [
    {
     "name": "stdout",
     "output_type": "stream",
     "text": [
      "Cities: [('Mumbai',), ('London',), ('Cairo',)]\n"
     ]
    }
   ],
   "source": [
    "conn = sqlite3.connect('weathers_data.db')\n",
    "cursor = conn.cursor()\n",
    "\n",
    "cursor.execute('SELECT DISTINCT city FROM weathers')\n",
    "cities = cursor.fetchall()\n",
    "\n",
    "conn.close()\n",
    "\n",
    "print(\"Cities:\", cities)"
   ]
  },
  {
   "cell_type": "markdown",
   "id": "e89cc0b8",
   "metadata": {},
   "source": [
    "c) All the records for India."
   ]
  },
  {
   "cell_type": "code",
   "execution_count": 42,
   "id": "62b70f91",
   "metadata": {},
   "outputs": [
    {
     "name": "stdout",
     "output_type": "stream",
     "text": [
      "Records for India:\n",
      "('Mumbai', 'India', 'Winter', 24.8, 5.9)\n",
      "('Mumbai', 'India', 'Spring', 28.4, 16.2)\n",
      "('Mumbai', 'India', 'Summer', 27.9, 1549.4)\n",
      "('Mumbai', 'India', 'Fall', 27.6, 346.0)\n"
     ]
    }
   ],
   "source": [
    "conn = sqlite3.connect('weathers_data.db')\n",
    "cursor = conn.cursor()\n",
    "\n",
    "cursor.execute('SELECT * FROM weathers WHERE country = \"India\"')\n",
    "india_records = cursor.fetchall()\n",
    "print(\"Records for India:\")\n",
    "\n",
    "conn.close()\n",
    "\n",
    "for record in india_records:\n",
    "    print(record)"
   ]
  },
  {
   "cell_type": "markdown",
   "id": "f85861e7",
   "metadata": {},
   "source": [
    "d) All the Fall records."
   ]
  },
  {
   "cell_type": "code",
   "execution_count": 43,
   "id": "acdd698d",
   "metadata": {},
   "outputs": [
    {
     "name": "stdout",
     "output_type": "stream",
     "text": [
      "('Mumbai', 'India', 'Fall', 27.6, 346.0)\n",
      "('London', 'United Kingdom', 'Fall', 10.4, 218.5)\n",
      "('Cairo', 'Egypt', 'Fall', 22.2, 4.5)\n"
     ]
    }
   ],
   "source": [
    "conn = sqlite3.connect('weathers_data.db')\n",
    "cursor = conn.cursor()\n",
    "\n",
    "cursor.execute(\"SELECT * FROM weathers WHERE season = 'Fall'\")\n",
    "fall_records = cursor.fetchall()\n",
    "\n",
    "conn.close()\n",
    "\n",
    "for record in fall_records:\n",
    "    print(record)"
   ]
  },
  {
   "cell_type": "markdown",
   "id": "e1c421ab",
   "metadata": {},
   "source": [
    "e  The city, country, and season for which the average rainfall is between 200 and 400 millimeters."
   ]
  },
  {
   "cell_type": "code",
   "execution_count": 44,
   "id": "83e14c7d",
   "metadata": {},
   "outputs": [
    {
     "name": "stdout",
     "output_type": "stream",
     "text": [
      "('London', 'United Kingdom', 'Fall')\n",
      "('London', 'United Kingdom', 'Winter')\n",
      "('Mumbai', 'India', 'Fall')\n"
     ]
    }
   ],
   "source": [
    "conn = sqlite3.connect('weathers_data.db')\n",
    "cursor = conn.cursor()\n",
    "\n",
    "cursor.execute('''SELECT city, country, season\n",
    "                  FROM weathers\n",
    "                  GROUP BY city, country, season\n",
    "                  HAVING AVG(rainfall) BETWEEN 200 AND 400''')\n",
    "rainfall_range_records = cursor.fetchall()\n",
    "\n",
    "conn.close()\n",
    "\n",
    "for record in rainfall_range_records:\n",
    "    print(record)"
   ]
  },
  {
   "cell_type": "markdown",
   "id": "6d84967b",
   "metadata": {},
   "source": [
    "f) The city and country for which the average Fall temperature is above 20 degrees, in increasing temperature order:"
   ]
  },
  {
   "cell_type": "code",
   "execution_count": 46,
   "id": "be660d4d",
   "metadata": {},
   "outputs": [
    {
     "name": "stdout",
     "output_type": "stream",
     "text": [
      "('Cairo', 'Egypt')\n",
      "('Mumbai', 'India')\n"
     ]
    }
   ],
   "source": [
    "conn = sqlite3.connect('weathers_data.db')\n",
    "cursor = conn.cursor()\n",
    "\n",
    "cursor.execute('''SELECT city, country\n",
    "                  FROM weathers\n",
    "                  WHERE season = 'Fall'\n",
    "                  GROUP BY city, country\n",
    "                  HAVING AVG(temperature) > 20\n",
    "                  ORDER BY AVG(temperature) ASC''')\n",
    "average_temp_records = cursor.fetchall()\n",
    "\n",
    "conn.close()\n",
    "\n",
    "for record in average_temp_records:\n",
    "    print(record)"
   ]
  },
  {
   "cell_type": "markdown",
   "id": "cebb3356",
   "metadata": {},
   "source": [
    "g) The total annual rainfall for Cairo."
   ]
  },
  {
   "cell_type": "code",
   "execution_count": 47,
   "id": "c39b5e0a",
   "metadata": {},
   "outputs": [
    {
     "name": "stdout",
     "output_type": "stream",
     "text": [
      "27.6\n"
     ]
    }
   ],
   "source": [
    "conn = sqlite3.connect('weathers_data.db')\n",
    "cursor = conn.cursor()\n",
    "\n",
    "cursor.execute(\"SELECT SUM(rainfall) FROM weathers WHERE city = 'Cairo'\")\n",
    "total_rainfall = cursor.fetchone()[0]\n",
    "\n",
    "conn.close()\n",
    "\n",
    "print(total_rainfall)"
   ]
  },
  {
   "cell_type": "markdown",
   "id": "f3801afd",
   "metadata": {},
   "source": [
    "h) The total rainfall for each season"
   ]
  },
  {
   "cell_type": "code",
   "execution_count": 49,
   "id": "dc6bc5a4",
   "metadata": {},
   "outputs": [
    {
     "name": "stdout",
     "output_type": "stream",
     "text": [
      "('Fall', 569.0)\n",
      "('Spring', 192.29999999999998)\n",
      "('Summer', 1706.5)\n",
      "('Winter', 230.1)\n"
     ]
    }
   ],
   "source": [
    "conn = sqlite3.connect('weathers_data.db')\n",
    "cursor = conn.cursor()\n",
    "\n",
    "\n",
    "cursor.execute('''SELECT season, SUM(rainfall)\n",
    "                  FROM weathers\n",
    "                  GROUP BY season''')\n",
    "season_rainfall = cursor.fetchall()\n",
    "\n",
    "conn.close()\n",
    "\n",
    "for record in season_rainfall:\n",
    "    print(record)\n",
    "    "
   ]
  },
  {
   "cell_type": "markdown",
   "id": "78c514a4",
   "metadata": {},
   "source": [
    "## Question 9"
   ]
  },
  {
   "cell_type": "markdown",
   "id": "2f8366f5",
   "metadata": {},
   "source": [
    "a) ['THE', 'QUICK', 'BROWN', 'FOX', 'JUMPS', 'OVER', 'THE', 'LAZY', 'DOG']:"
   ]
  },
  {
   "cell_type": "code",
   "execution_count": 31,
   "id": "4054fda2",
   "metadata": {},
   "outputs": [
    {
     "name": "stdout",
     "output_type": "stream",
     "text": [
      "['THE', 'QUICK', 'BROWN', 'FOX', 'JUMPS', 'OVER', 'THE', 'LAZY', 'DOG']\n"
     ]
    }
   ],
   "source": [
    "words = ['The', 'quick', 'brown', 'fox', 'jumps', 'over', 'the', 'lazy', 'dog']\n",
    "uppercase_words = [word.upper() for word in words]\n",
    "print(uppercase_words)\n"
   ]
  },
  {
   "cell_type": "markdown",
   "id": "ccd21d7d",
   "metadata": {},
   "source": [
    "b) ['the', 'quick', 'brown', 'fox', 'jumps', 'over', 'the', 'lazy', 'dog']"
   ]
  },
  {
   "cell_type": "code",
   "execution_count": 32,
   "id": "99bd7dea",
   "metadata": {},
   "outputs": [
    {
     "name": "stdout",
     "output_type": "stream",
     "text": [
      "['the', 'quick', 'brown', 'fox', 'jumps', 'over', 'the', 'lazy', 'dog']\n"
     ]
    }
   ],
   "source": [
    "words = ['The', 'quick', 'brown', 'fox', 'jumps', 'over', 'the', 'lazy', 'dog']\n",
    "lowercase_words = [word.lower() for word in words]\n",
    "print(lowercase_words)\n"
   ]
  },
  {
   "cell_type": "markdown",
   "id": "ac70570e",
   "metadata": {},
   "source": [
    "c) [3, 5, 5, 3, 5, 4, 3, 4, 3] (the list of lengths of words in list words):"
   ]
  },
  {
   "cell_type": "code",
   "execution_count": 33,
   "id": "44e5cfc3",
   "metadata": {},
   "outputs": [
    {
     "name": "stdout",
     "output_type": "stream",
     "text": [
      "[3, 5, 5, 3, 5, 4, 3, 4, 3]\n"
     ]
    }
   ],
   "source": [
    "words = ['The', 'quick', 'brown', 'fox', 'jumps', 'over', 'the', 'lazy', 'dog']\n",
    "word_lengths = [len(word) for word in words]\n",
    "print(word_lengths)\n"
   ]
  },
  {
   "cell_type": "markdown",
   "id": "f43a8047",
   "metadata": {},
   "source": [
    "d) [['THE', 'the', 3], ['QUICK', 'quick', 5], ['BROWN', 'brown', 5], ['FOX', 'fox', 3], ['JUMPS', 'jumps', 5], ['OVER', 'over', 4], ['THE', 'the', 3], ['LAZY', 'lazy', 4], ['DOG', 'dog', 3]] (the list containing a list for every word of list words, where each list contains the word in uppercase and lowercase and the length of the word):"
   ]
  },
  {
   "cell_type": "code",
   "execution_count": 35,
   "id": "8f0a351a",
   "metadata": {},
   "outputs": [
    {
     "name": "stdout",
     "output_type": "stream",
     "text": [
      "[['THE', 'the', 3], ['QUICK', 'quick', 5], ['BROWN', 'brown', 5], ['FOX', 'fox', 3], ['JUMPS', 'jumps', 5], ['OVER', 'over', 4], ['THE', 'the', 3], ['LAZY', 'lazy', 4], ['DOG', 'dog', 3]] "
     ]
    }
   ],
   "source": [
    "words = ['The', 'quick', 'brown', 'fox', 'jumps', 'over', 'the', 'lazy', 'dog']\n",
    "word_info = [[word.upper(), word.lower(), len(word)] for word in words] \n",
    "print(word_info, end= \" \")\n"
   ]
  },
  {
   "cell_type": "markdown",
   "id": "b2d66af9",
   "metadata": {},
   "source": [
    "e) ['The', 'quick', 'brown', 'fox', 'jumps', 'over', 'the', 'lazy', 'dog'] (the list of words in list words containing 4 or more characters):"
   ]
  },
  {
   "cell_type": "code",
   "execution_count": 36,
   "id": "4e2e3c15",
   "metadata": {},
   "outputs": [
    {
     "name": "stdout",
     "output_type": "stream",
     "text": [
      "['quick', 'brown', 'jumps', 'over', 'lazy']\n"
     ]
    }
   ],
   "source": [
    "words = ['The', 'quick', 'brown', 'fox', 'jumps', 'over', 'the', 'lazy', 'dog']\n",
    "long_words = [word for word in words if len(word) >= 4]   #condition\n",
    "print(long_words)\n"
   ]
  },
  {
   "cell_type": "code",
   "execution_count": null,
   "id": "21bf2764",
   "metadata": {},
   "outputs": [],
   "source": []
  }
 ],
 "metadata": {
  "kernelspec": {
   "display_name": "Python 3 (ipykernel)",
   "language": "python",
   "name": "python3"
  },
  "language_info": {
   "codemirror_mode": {
    "name": "ipython",
    "version": 3
   },
   "file_extension": ".py",
   "mimetype": "text/x-python",
   "name": "python",
   "nbconvert_exporter": "python",
   "pygments_lexer": "ipython3",
   "version": "3.10.9"
  }
 },
 "nbformat": 4,
 "nbformat_minor": 5
}
